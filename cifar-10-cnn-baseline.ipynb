{
 "metadata": {
  "kernelspec": {
   "language": "python",
   "display_name": "Python 3",
   "name": "python3"
  },
  "language_info": {
   "name": "python",
   "version": "3.7.12",
   "mimetype": "text/x-python",
   "codemirror_mode": {
    "name": "ipython",
    "version": 3
   },
   "pygments_lexer": "ipython3",
   "nbconvert_exporter": "python",
   "file_extension": ".py"
  }
 },
 "nbformat_minor": 4,
 "nbformat": 4,
 "cells": [
  {
   "cell_type": "code",
   "source": [
    "# This Python 3 environment comes with many helpful analytics libraries installed\n",
    "# It is defined by the kaggle/python Docker image: https://github.com/kaggle/docker-python\n",
    "# For example, here's several helpful packages to load\n",
    "\n",
    "import numpy as np # linear algebra\n",
    "import pandas as pd # data processing, CSV file I/O (e.g. pd.read_csv)\n",
    "\n",
    "# Input data files are available in the read-only \"../input/\" directory\n",
    "# For example, running this (by clicking run or pressing Shift+Enter) will list all files under the input directory\n",
    "\n",
    "import os\n",
    "for dirname, _, filenames in os.walk('/kaggle/input'):\n",
    "    for filename in filenames:\n",
    "        print(os.path.join(dirname, filename))\n",
    "# You can write up to 20GB to the current directory (/kaggle/working/) that gets preserved as output when you create a version using \"Save & Run All\" \n",
    "# You can also write temporary files to /kaggle/temp/, but they won't be saved outside of the current session"
   ],
   "metadata": {
    "_uuid": "8f2839f25d086af736a60e9eeb907d3b93b6e0e5",
    "_cell_guid": "b1076dfc-b9ad-4769-8c92-a6c4dae69d19",
    "execution": {
     "iopub.status.busy": "2022-01-12T09:34:49.571512Z",
     "iopub.execute_input": "2022-01-12T09:34:49.571775Z",
     "iopub.status.idle": "2022-01-12T09:34:49.586693Z",
     "shell.execute_reply.started": "2022-01-12T09:34:49.571745Z",
     "shell.execute_reply": "2022-01-12T09:34:49.5856Z"
    },
    "collapsed": true,
    "jupyter": {
     "outputs_hidden": true
    },
    "trusted": true
   },
   "execution_count": null,
   "outputs": []
  },
  {
   "cell_type": "code",
   "source": [
    "# Copyright 2015 The TensorFlow Authors. All Rights Reserved.\n",
    "#\n",
    "# Licensed under the Apache License, Version 2.0 (the \"License\");\n",
    "# you may not use this file except in compliance with the License.\n",
    "# You may obtain a copy of the License at\n",
    "#\n",
    "#     http://www.apache.org/licenses/LICENSE-2.0\n",
    "#\n",
    "# Unless required by applicable law or agreed to in writing, software\n",
    "# distributed under the License is distributed on an \"AS IS\" BASIS,\n",
    "# WITHOUT WARRANTIES OR CONDITIONS OF ANY KIND, either express or implied.\n",
    "# See the License for the specific language governing permissions and\n",
    "# limitations under the License.\n",
    "# ==============================================================================\n",
    "\"\"\"CIFAR10 small images classification dataset.\n",
    "\"\"\"\n",
    "from __future__ import absolute_import\n",
    "from __future__ import division\n",
    "from __future__ import print_function\n",
    "\n",
    "import os\n",
    "\n",
    "import numpy as np\n",
    "\n",
    "from tensorflow.python.keras import backend as K\n",
    "from tensorflow.python.keras.datasets.cifar import load_batch\n",
    "from tensorflow.python.keras.utils.data_utils import get_file\n",
    "from tensorflow.python.util.tf_export import keras_export\n",
    "\n",
    "\n",
    "@keras_export('keras.datasets.cifar10.load_data')\n",
    "def load_data():\n",
    "  \"\"\"Loads CIFAR10 dataset.\n",
    "\n",
    "  Returns:\n",
    "      Tuple of Numpy arrays: `(x_train, y_train), (x_test, y_test)`.\n",
    "  \"\"\"\n",
    "  path = '../input/cifar10-python/cifar-10-batches-py'\n",
    "  num_train_samples = 50000\n",
    "\n",
    "  x_train = np.empty((num_train_samples, 3, 32, 32), dtype='uint8')\n",
    "  y_train = np.empty((num_train_samples,), dtype='uint8')\n",
    "\n",
    "  for i in range(1, 6):\n",
    "    fpath = os.path.join(path, 'data_batch_' + str(i))\n",
    "    (x_train[(i - 1) * 10000:i * 10000, :, :, :],\n",
    "     y_train[(i - 1) * 10000:i * 10000]) = load_batch(fpath)\n",
    "\n",
    "  fpath = os.path.join(path, 'test_batch')\n",
    "  x_test, y_test = load_batch(fpath)\n",
    "\n",
    "  y_train = np.reshape(y_train, (len(y_train), 1))\n",
    "  y_test = np.reshape(y_test, (len(y_test), 1))\n",
    "\n",
    "  if K.image_data_format() == 'channels_last':\n",
    "    x_train = x_train.transpose(0, 2, 3, 1)\n",
    "    x_test = x_test.transpose(0, 2, 3, 1)\n",
    "\n",
    "  x_test = x_test.astype(x_train.dtype)\n",
    "  y_test = y_test.astype(y_train.dtype)\n",
    "\n",
    "  return (x_train, y_train), (x_test, y_test)\n",
    "import tensorflow as tf\n",
    "from matplotlib import pyplot as plt\n",
    "import numpy as np\n",
    "\n",
    "np.set_printoptions(threshold=np.inf)\n",
    "\n",
    "cifar10 = tf.keras.datasets.cifar10\n",
    "(x_train, y_train), (x_test, y_test) = load_data()\n",
    "\n",
    "# 可视化训练集输入特征的第一个元素\n",
    "plt.imshow(x_train[0])  # 绘制图片\n",
    "plt.show()\n",
    "# 打印出训练集输入特征的第一个元素\n",
    "print(\"x_train[0]:\\n\", x_train[0])\n",
    "# 打印出训练集标签的第一个元素\n",
    "print(\"y_train[0]:\\n\", y_train[0])\n",
    "\n",
    "# 打印出整个训练集输入特征形状\n",
    "print(\"x_train.shape:\\n\", x_train.shape)\n",
    "# 打印出整个训练集标签的形状\n",
    "print(\"y_train.shape:\\n\", y_train.shape)\n",
    "# 打印出整个测试集输入特征的形状\n",
    "print(\"x_test.shape:\\n\", x_test.shape)\n",
    "# 打印出整个测试集标签的形状\n",
    "print(\"y_test.shape:\\n\", y_test.shape)\n"
   ],
   "metadata": {
    "execution": {
     "iopub.status.busy": "2022-01-12T09:34:49.593839Z",
     "iopub.execute_input": "2022-01-12T09:34:49.594096Z",
     "iopub.status.idle": "2022-01-12T09:34:50.09233Z",
     "shell.execute_reply.started": "2022-01-12T09:34:49.594068Z",
     "shell.execute_reply": "2022-01-12T09:34:50.091619Z"
    },
    "collapsed": true,
    "jupyter": {
     "outputs_hidden": true
    },
    "trusted": true
   },
   "execution_count": null,
   "outputs": []
  },
  {
   "cell_type": "code",
   "source": "\nfrom tensorflow.keras.layers import Conv2D, BatchNormalization, Activation, MaxPool2D, Dropout, Flatten, Dense\nfrom tensorflow.keras import Model\nclass Baseline(Model):\n    def __init__(self):\n        super(Baseline, self).__init__()\n        self.c1 = Conv2D(filters=6, kernel_size=(5, 5), padding='same')  # 卷积层\n        self.b1 = BatchNormalization()  # BN层\n        self.a1 = Activation('relu')  # 激活层\n        self.p1 = MaxPool2D(pool_size=(2, 2), strides=2, padding='same')  # 池化层\n        self.d1 = Dropout(0.2)  # dropout层\n\n        self.flatten = Flatten()\n        self.f1 = Dense(128, activation='relu')\n        self.d2 = Dropout(0.2)\n        self.f2 = Dense(10, activation='softmax')\n\n    def call(self, x):\n        x = self.c1(x)\n        x = self.b1(x)\n        x = self.a1(x)\n        x = self.p1(x)\n        x = self.d1(x)\n\n        x = self.flatten(x)\n        x = self.f1(x)\n        x = self.d2(x)\n        y = self.f2(x)\n        return y\n\n\nx_train=tf.cast(x_train,dtype = float)\nx_test=tf.cast(x_test,dtype = float)\n\nmodel = Baseline()\n\nmodel.compile(optimizer='adam',\n              loss=tf.keras.losses.SparseCategoricalCrossentropy(from_logits=False),\n              metrics=['sparse_categorical_accuracy'])\n\ncheckpoint_save_path = \"./checkpoint/Baseline.ckpt\"\nif os.path.exists(checkpoint_save_path + '.index'):\n    print('-------------load the model-----------------')\n    model.load_weights(checkpoint_save_path)\n\ncp_callback = tf.keras.callbacks.ModelCheckpoint(filepath=checkpoint_save_path,\n                                                 save_weights_only=True,\n                                                 save_best_only=True)\n\nhistory = model.fit(x_train, y_train, batch_size=256, epochs=5, validation_data=(x_test, y_test), validation_freq=1,\n                    callbacks=[cp_callback])\nmodel.summary()\n\n# print(model.trainable_variables)\nfile = open('./weights.txt', 'w')\nfor v in model.trainable_variables:\n    file.write(str(v.name) + '\\n')\n    file.write(str(v.shape) + '\\n')\n    file.write(str(v.numpy()) + '\\n')\nfile.close()\n",
   "metadata": {
    "execution": {
     "iopub.status.busy": "2022-01-12T09:34:50.093986Z",
     "iopub.execute_input": "2022-01-12T09:34:50.094496Z",
     "iopub.status.idle": "2022-01-12T09:34:59.813904Z",
     "shell.execute_reply.started": "2022-01-12T09:34:50.094458Z",
     "shell.execute_reply": "2022-01-12T09:34:59.813011Z"
    },
    "collapsed": true,
    "jupyter": {
     "outputs_hidden": true
    },
    "trusted": true
   },
   "execution_count": null,
   "outputs": []
  },
  {
   "cell_type": "code",
   "source": "\n\n###############################################    show   ###############################################\n\n# 显示训练集和验证集的acc和loss曲线\nacc = history.history['sparse_categorical_accuracy']\nval_acc = history.history['val_sparse_categorical_accuracy']\nloss = history.history['loss']\nval_loss = history.history['val_loss']\n\nplt.subplot(1, 2, 1)\nplt.plot(acc, label='Training Accuracy')\nplt.plot(val_acc, label='Validation Accuracy')\nplt.title('Training and Validation Accuracy')\nplt.legend()\n\nplt.subplot(1, 2, 2)\nplt.plot(loss, label='Training Loss')\nplt.plot(val_loss, label='Validation Loss')\nplt.title('Training and Validation Loss')\nplt.legend()\nplt.show()",
   "metadata": {
    "execution": {
     "iopub.status.busy": "2022-01-12T09:34:59.815594Z",
     "iopub.execute_input": "2022-01-12T09:34:59.815844Z",
     "iopub.status.idle": "2022-01-12T09:35:00.129399Z",
     "shell.execute_reply.started": "2022-01-12T09:34:59.815811Z",
     "shell.execute_reply": "2022-01-12T09:35:00.128742Z"
    },
    "collapsed": true,
    "jupyter": {
     "outputs_hidden": true
    },
    "trusted": true
   },
   "execution_count": null,
   "outputs": []
  }
 ]
}